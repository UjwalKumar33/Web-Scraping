{
 "cells": [
  {
   "cell_type": "code",
   "execution_count": 1,
   "id": "40b4bf2b",
   "metadata": {},
   "outputs": [],
   "source": [
    "import requests\n",
    "from bs4 import BeautifulSoup\n",
    "import pandas as pd\n",
    "import numpy as np\n",
    "import time\n",
    "import regex as re\n",
    "import matplotlib.pyplot as plt\n",
    "import seaborn as sns\n",
    "\n",
    "from IPython.core.interactiveshell import InteractiveShell\n",
    "InteractiveShell.ast_node_interactivity = 'all'"
   ]
  },
  {
   "cell_type": "code",
   "execution_count": 2,
   "id": "eee3e096",
   "metadata": {},
   "outputs": [
    {
     "data": {
      "text/plain": [
       "200"
      ]
     },
     "execution_count": 2,
     "metadata": {},
     "output_type": "execute_result"
    }
   ],
   "source": [
    "url='https://www.bikewale.com/used/bikes-in-india/'\n",
    "response=requests.get(url)\n",
    "response.status_code"
   ]
  },
  {
   "cell_type": "code",
   "execution_count": 3,
   "id": "b9be6190",
   "metadata": {},
   "outputs": [],
   "source": [
    "url = \"https://www.bikewale.com/used/bikes-in-india/\"\n",
    "page = requests.get(url)\n",
    "soup = BeautifulSoup(page.text)"
   ]
  },
  {
   "cell_type": "code",
   "execution_count": null,
   "id": "52990b01",
   "metadata": {},
   "outputs": [],
   "source": [
    "\n",
    "#code for scraping the data from all the pages of the site\n",
    "k=[]\n",
    "\n",
    "for i in range(1,30): \n",
    "    start_time = time.time()\n",
    "    URL = 'https://www.bikewale.com/used/bikes-in-india/page-{}/'.format(i)\n",
    "    headers={\"user-agent\": \"Mozilla/5.0 (Windows NT 10.0; Win64; x64) AppleWebKit/537.36 (KHTML, like Gecko) Chrome/96.0.4664.110 Safari/537.36 Edg/96.0.1054.62\"}\n",
    "    page = requests.get(URL,headers=headers)\n",
    "    pagecontent = page.text\n",
    "    soup = BeautifulSoup(pagecontent)\n",
    "    a=soup.find_all('div',attrs={\"class\":\"model-details-content font14\"})\n",
    "    for i in a:\n",
    "        \n",
    "        if i is None:\n",
    "            k.append(\"0\")\n",
    "        else:\n",
    "            k.append(i.text)\n",
    "    "
   ]
  },
  {
   "cell_type": "code",
   "execution_count": null,
   "id": "b6d9fe7e",
   "metadata": {},
   "outputs": [],
   "source": [
    "#creating the dataframe from the data scraped\n",
    "k[0]\n",
    "l=[]\n",
    "for i in k:\n",
    "    l.append(i.split('\\n'))\n",
    "    \n",
    "df=pd.DataFrame(l)\n"
   ]
  },
  {
   "cell_type": "code",
   "execution_count": null,
   "id": "e14ac04b",
   "metadata": {},
   "outputs": [],
   "source": [
    "#cleaning te dataframe\n",
    "post=[]\n",
    "for i in df['Bikenames']:\n",
    "    a=re.findall('[0-9]+\\s[A-z]+\\s[0-9]+',i)\n",
    "    b=str(a).replace('[','').replace(']','').replace(\"'\",\"\")\n",
    "    post.append(b)\n",
    "    \n",
    "df['uploaded_on']=post\n",
    "\n",
    "km=[]\n",
    "for i in df['kilometers']:\n",
    "    a=re.findall('[0-9]+\\,[0-9]+',i)\n",
    "    b=str(a).replace('[','').replace(']','').replace(\"'\",\"\").replace(',','')\n",
    "    km.append(b)\n",
    "    \n",
    "df['kilometers']=km\n",
    "\n",
    "cost=[]\n",
    "for i in df['price']:\n",
    "    a=re.findall('[0-9]\\,?[0-9]+\\,[0-9]+',i)\n",
    "    b=str(a).replace('[','').replace(']','').replace(\"'\",\"\").replace(',','')\n",
    "    cost.append(b)\n",
    "    \n",
    "df['price']=cost\n",
    "\n",
    "comp=[]\n",
    "for i in df['Bikenames']:\n",
    "    a=re.findall('[0-9]+\\,\\s([A-z]+)',i)\n",
    "    b=str(a).replace('[','').replace(']','').replace(\"'\",\"\").replace(',','')\n",
    "    comp.append(b)\n",
    "    \n",
    "df['company']=comp\n",
    "\n",
    "model=[]\n",
    "for i in df['model_year']:\n",
    "    a=re.findall('[0-9]+',i)\n",
    "    b=str(a).replace('[','').replace(']','').replace(\"'\",\"\")\n",
    "    model.append(b)\n",
    "    \n",
    "df['model_year']=model\n",
    "\n",
    "\n",
    "df=df[['company','Bikenames','model_year','kilometers','price','location','owner','uploaded_on']]\n",
    "\n",
    "\n",
    "bike=[]\n",
    "for i in df['Bikenames']:\n",
    "    a=i.split('Updated')\n",
    "    b=str(a).split(',')\n",
    "    c=b[1]\n",
    "    d=c.replace(\"'\",\"\")\n",
    "    bike.append(d)\n",
    "    \n",
    "df['Bikenames']=bike\n",
    "            \n",
    "name=[]\n",
    "for i in df['Bikenames']:\n",
    "    a=i.split()[1:4]\n",
    "    b=str(a).replace('[','').replace(']','').replace(\"'\",\"\").replace(',','')\n",
    "    name.append(b)\n",
    "    \n",
    "df['Bikenames']=name\n",
    "\n",
    "df.to_csv(r'C:\\Users\\Ujwal Kumar\\Documents\\project\\usedbikes.csv')\n",
    "\n",
    "df=pd.read_csv(r'C:\\Users\\Ujwal Kumar\\Documents\\project\\usedbikes.csv')\n",
    "\n",
    "df.info()\n"
   ]
  },
  {
   "cell_type": "code",
   "execution_count": null,
   "id": "f4368bbb",
   "metadata": {},
   "outputs": [],
   "source": [
    "#cheacking whether there are null values in the datafram or not\n",
    "df.isnull().sum()"
   ]
  },
  {
   "cell_type": "code",
   "execution_count": null,
   "id": "6d56d70c",
   "metadata": {},
   "outputs": [],
   "source": [
    "#filling the null values\n",
    "z=df['kilometers'].mean()\n",
    "df['kilometers'].fillna(value = z,\n",
    "          inplace = True)\n",
    "df['uploaded_on'].fillna(value = 2021-5-17,\n",
    "          inplace = True)   "
   ]
  },
  {
   "cell_type": "code",
   "execution_count": null,
   "id": "396f7d97",
   "metadata": {},
   "outputs": [],
   "source": [
    "#converting the type of columns to our requirements\n",
    "df['kilometers']=df['kilometers'].astype('int')\n",
    "df['price']=df['price'].astype('int')\n",
    "df['model_year']=df['model_year'].astype('int')            \n",
    "df['uploaded_on']=pd.to_datetime(df['uploaded_on'], dayfirst=True,\n",
    "errors='coerce')"
   ]
  },
  {
   "cell_type": "code",
   "execution_count": null,
   "id": "458fda1a",
   "metadata": {},
   "outputs": [],
   "source": [
    "#saving the file to .csv format\n",
    "df.to_csv(r'C:\\Users\\Ujwal Kumar\\Documents\\project\\final.csv')"
   ]
  },
  {
   "cell_type": "code",
   "execution_count": 4,
   "id": "78417a30",
   "metadata": {},
   "outputs": [],
   "source": [
    "df=pd.read_csv(\"C:\\\\Users\\\\asus\\\\Documents\\\\data analysis\\\\project web scraping\\\\final.csv\")"
   ]
  },
  {
   "cell_type": "code",
   "execution_count": 5,
   "id": "31cf1438",
   "metadata": {},
   "outputs": [
    {
     "data": {
      "text/html": [
       "<div>\n",
       "<style scoped>\n",
       "    .dataframe tbody tr th:only-of-type {\n",
       "        vertical-align: middle;\n",
       "    }\n",
       "\n",
       "    .dataframe tbody tr th {\n",
       "        vertical-align: top;\n",
       "    }\n",
       "\n",
       "    .dataframe thead th {\n",
       "        text-align: right;\n",
       "    }\n",
       "</style>\n",
       "<table border=\"1\" class=\"dataframe\">\n",
       "  <thead>\n",
       "    <tr style=\"text-align: right;\">\n",
       "      <th></th>\n",
       "      <th>company</th>\n",
       "      <th>Bikenames</th>\n",
       "      <th>model_year</th>\n",
       "      <th>kilometers</th>\n",
       "      <th>price</th>\n",
       "      <th>location</th>\n",
       "      <th>Owner</th>\n",
       "      <th>uploaded_on</th>\n",
       "    </tr>\n",
       "  </thead>\n",
       "  <tbody>\n",
       "    <tr>\n",
       "      <th>0</th>\n",
       "      <td>Bajaj</td>\n",
       "      <td>Avenger Cruise 220</td>\n",
       "      <td>2017</td>\n",
       "      <td>2250</td>\n",
       "      <td>85000</td>\n",
       "      <td>Bangalore</td>\n",
       "      <td>1st</td>\n",
       "      <td>1/7/2022</td>\n",
       "    </tr>\n",
       "    <tr>\n",
       "      <th>1</th>\n",
       "      <td>Bajaj</td>\n",
       "      <td>Pulsar 150 Kick</td>\n",
       "      <td>2016</td>\n",
       "      <td>37729</td>\n",
       "      <td>50000</td>\n",
       "      <td>Mangalore</td>\n",
       "      <td>1st</td>\n",
       "      <td>1/7/2022</td>\n",
       "    </tr>\n",
       "    <tr>\n",
       "      <th>2</th>\n",
       "      <td>Suzuki</td>\n",
       "      <td>Intruder 150 SP</td>\n",
       "      <td>2019</td>\n",
       "      <td>4102</td>\n",
       "      <td>62000</td>\n",
       "      <td>Delhi</td>\n",
       "      <td>1st</td>\n",
       "      <td>1/7/2022</td>\n",
       "    </tr>\n",
       "    <tr>\n",
       "      <th>3</th>\n",
       "      <td>Yamaha</td>\n",
       "      <td>FZ16 Standard</td>\n",
       "      <td>2010</td>\n",
       "      <td>45000</td>\n",
       "      <td>20000</td>\n",
       "      <td>Bilaspur</td>\n",
       "      <td>1st</td>\n",
       "      <td>1/7/2022</td>\n",
       "    </tr>\n",
       "    <tr>\n",
       "      <th>4</th>\n",
       "      <td>Bajaj</td>\n",
       "      <td>Discover 125 ST</td>\n",
       "      <td>2012</td>\n",
       "      <td>70990</td>\n",
       "      <td>31000</td>\n",
       "      <td>Bapatla</td>\n",
       "      <td>2nd</td>\n",
       "      <td>1/7/2022</td>\n",
       "    </tr>\n",
       "  </tbody>\n",
       "</table>\n",
       "</div>"
      ],
      "text/plain": [
       "  company           Bikenames  model_year  kilometers  price    location  \\\n",
       "0   Bajaj  Avenger Cruise 220        2017        2250  85000  Bangalore    \n",
       "1   Bajaj     Pulsar 150 Kick        2016       37729  50000  Mangalore    \n",
       "2  Suzuki     Intruder 150 SP        2019        4102  62000      Delhi    \n",
       "3  Yamaha       FZ16 Standard        2010       45000  20000   Bilaspur    \n",
       "4   Bajaj     Discover 125 ST        2012       70990  31000    Bapatla    \n",
       "\n",
       "  Owner uploaded_on  \n",
       "0  1st     1/7/2022  \n",
       "1  1st     1/7/2022  \n",
       "2  1st     1/7/2022  \n",
       "3  1st     1/7/2022  \n",
       "4  2nd     1/7/2022  "
      ]
     },
     "execution_count": 5,
     "metadata": {},
     "output_type": "execute_result"
    }
   ],
   "source": [
    "df.head()"
   ]
  },
  {
   "cell_type": "code",
   "execution_count": 6,
   "id": "d16fec92",
   "metadata": {},
   "outputs": [],
   "source": [
    "df['uploaded_on'] = pd.to_datetime(df['uploaded_on'])"
   ]
  },
  {
   "cell_type": "code",
   "execution_count": 7,
   "id": "8a703a31",
   "metadata": {},
   "outputs": [
    {
     "name": "stdout",
     "output_type": "stream",
     "text": [
      "<class 'pandas.core.frame.DataFrame'>\n",
      "RangeIndex: 580 entries, 0 to 579\n",
      "Data columns (total 8 columns):\n",
      " #   Column       Non-Null Count  Dtype         \n",
      "---  ------       --------------  -----         \n",
      " 0   company      580 non-null    object        \n",
      " 1   Bikenames    580 non-null    object        \n",
      " 2   model_year   580 non-null    int64         \n",
      " 3   kilometers   580 non-null    int64         \n",
      " 4   price        580 non-null    int64         \n",
      " 5   location     580 non-null    object        \n",
      " 6   Owner        580 non-null    object        \n",
      " 7   uploaded_on  579 non-null    datetime64[ns]\n",
      "dtypes: datetime64[ns](1), int64(3), object(4)\n",
      "memory usage: 36.4+ KB\n"
     ]
    }
   ],
   "source": [
    "df.info()"
   ]
  },
  {
   "cell_type": "code",
   "execution_count": 8,
   "id": "9b820b2f",
   "metadata": {},
   "outputs": [
    {
     "data": {
      "text/html": [
       "<div>\n",
       "<style scoped>\n",
       "    .dataframe tbody tr th:only-of-type {\n",
       "        vertical-align: middle;\n",
       "    }\n",
       "\n",
       "    .dataframe tbody tr th {\n",
       "        vertical-align: top;\n",
       "    }\n",
       "\n",
       "    .dataframe thead th {\n",
       "        text-align: right;\n",
       "    }\n",
       "</style>\n",
       "<table border=\"1\" class=\"dataframe\">\n",
       "  <thead>\n",
       "    <tr style=\"text-align: right;\">\n",
       "      <th></th>\n",
       "      <th>model_year</th>\n",
       "      <th>kilometers</th>\n",
       "      <th>price</th>\n",
       "    </tr>\n",
       "  </thead>\n",
       "  <tbody>\n",
       "    <tr>\n",
       "      <th>count</th>\n",
       "      <td>580.000000</td>\n",
       "      <td>580.000000</td>\n",
       "      <td>580.000000</td>\n",
       "    </tr>\n",
       "    <tr>\n",
       "      <th>mean</th>\n",
       "      <td>2015.201724</td>\n",
       "      <td>28107.922414</td>\n",
       "      <td>75738.870690</td>\n",
       "    </tr>\n",
       "    <tr>\n",
       "      <th>std</th>\n",
       "      <td>4.413709</td>\n",
       "      <td>21123.504098</td>\n",
       "      <td>57701.006986</td>\n",
       "    </tr>\n",
       "    <tr>\n",
       "      <th>min</th>\n",
       "      <td>1987.000000</td>\n",
       "      <td>100.000000</td>\n",
       "      <td>10000.000000</td>\n",
       "    </tr>\n",
       "    <tr>\n",
       "      <th>25%</th>\n",
       "      <td>2013.000000</td>\n",
       "      <td>11000.000000</td>\n",
       "      <td>35000.000000</td>\n",
       "    </tr>\n",
       "    <tr>\n",
       "      <th>50%</th>\n",
       "      <td>2016.000000</td>\n",
       "      <td>24000.000000</td>\n",
       "      <td>56500.000000</td>\n",
       "    </tr>\n",
       "    <tr>\n",
       "      <th>75%</th>\n",
       "      <td>2019.000000</td>\n",
       "      <td>40000.000000</td>\n",
       "      <td>100000.000000</td>\n",
       "    </tr>\n",
       "    <tr>\n",
       "      <th>max</th>\n",
       "      <td>2021.000000</td>\n",
       "      <td>98707.000000</td>\n",
       "      <td>360000.000000</td>\n",
       "    </tr>\n",
       "  </tbody>\n",
       "</table>\n",
       "</div>"
      ],
      "text/plain": [
       "        model_year    kilometers          price\n",
       "count   580.000000    580.000000     580.000000\n",
       "mean   2015.201724  28107.922414   75738.870690\n",
       "std       4.413709  21123.504098   57701.006986\n",
       "min    1987.000000    100.000000   10000.000000\n",
       "25%    2013.000000  11000.000000   35000.000000\n",
       "50%    2016.000000  24000.000000   56500.000000\n",
       "75%    2019.000000  40000.000000  100000.000000\n",
       "max    2021.000000  98707.000000  360000.000000"
      ]
     },
     "execution_count": 8,
     "metadata": {},
     "output_type": "execute_result"
    }
   ],
   "source": [
    "df.describe()"
   ]
  },
  {
   "cell_type": "markdown",
   "id": "652f272e",
   "metadata": {},
   "source": [
    "# data visualization"
   ]
  },
  {
   "cell_type": "markdown",
   "id": "9bf1cc1d",
   "metadata": {},
   "source": [
    "in the above graph we conclude that kilometers driven of different company bikes is different for other companies,Yamaha has the highest kilometers driven bikes from all the companies"
   ]
  },
  {
   "cell_type": "markdown",
   "id": "4738d503",
   "metadata": {},
   "source": [
    "# Univariant 1"
   ]
  },
  {
   "cell_type": "code",
   "execution_count": 14,
   "id": "4346d3e1",
   "metadata": {},
   "outputs": [
    {
     "name": "stderr",
     "output_type": "stream",
     "text": [
      "C:\\Users\\asus\\anaconda3\\lib\\site-packages\\seaborn\\_decorators.py:36: FutureWarning: Pass the following variable as a keyword arg: x. From version 0.12, the only valid positional argument will be `data`, and passing other arguments without an explicit keyword will result in an error or misinterpretation.\n",
      "  warnings.warn(\n"
     ]
    },
    {
     "data": {
      "text/plain": [
       "<AxesSubplot:xlabel='price'>"
      ]
     },
     "execution_count": 14,
     "metadata": {},
     "output_type": "execute_result"
    },
    {
     "data": {
      "image/png": "[encoded data removed]",
      "text/plain": [
       "<Figure size 432x288 with 1 Axes>"
      ]
     },
     "metadata": {
      "needs_background": "light"
     },
     "output_type": "display_data"
    }
   ],
   "source": [
    "sns.boxplot(df[\"price\"])"
   ]
  },
  {
   "cell_type": "markdown",
   "id": "4e556d5a",
   "metadata": {},
   "source": [
    "In the above graph we can conclude that cost of the bikes are avalable in the range of 30000-35000"
   ]
  },
  {
   "cell_type": "code",
   "execution_count": 15,
   "id": "704651b0",
   "metadata": {},
   "outputs": [
    {
     "name": "stderr",
     "output_type": "stream",
     "text": [
      "C:\\Users\\asus\\anaconda3\\lib\\site-packages\\seaborn\\_decorators.py:36: FutureWarning: Pass the following variable as a keyword arg: x. From version 0.12, the only valid positional argument will be `data`, and passing other arguments without an explicit keyword will result in an error or misinterpretation.\n",
      "  warnings.warn(\n"
     ]
    },
    {
     "data": {
      "text/plain": [
       "<AxesSubplot:xlabel='kilometers'>"
      ]
     },
     "execution_count": 15,
     "metadata": {},
     "output_type": "execute_result"
    },
    {
     "data": {
      "image/png": "[encoded data removed]",
      "text/plain": [
       "<Figure size 432x288 with 1 Axes>"
      ]
     },
     "metadata": {
      "needs_background": "light"
     },
     "output_type": "display_data"
    }
   ],
   "source": [
    "sns.boxplot(df[\"kilometers\"])"
   ]
  },
  {
   "cell_type": "markdown",
   "id": "e90ca42b",
   "metadata": {},
   "source": [
    "In the above graph we can conclude that most of the bikes are driven below 40000 are more"
   ]
  },
  {
   "cell_type": "markdown",
   "id": "b14cb893",
   "metadata": {},
   "source": [
    "# bivariant 1  "
   ]
  },
  {
   "cell_type": "code",
   "execution_count": 69,
   "id": "f8d304c8",
   "metadata": {},
   "outputs": [
    {
     "data": {
      "text/plain": [
       "<Figure size 1080x504 with 0 Axes>"
      ]
     },
     "execution_count": 69,
     "metadata": {},
     "output_type": "execute_result"
    },
    {
     "data": {
      "text/plain": [
       "<seaborn.axisgrid.FacetGrid at 0x22a4b90e490>"
      ]
     },
     "execution_count": 69,
     "metadata": {},
     "output_type": "execute_result"
    },
    {
     "data": {
      "text/plain": [
       "(array([ 0,  1,  2,  3,  4,  5,  6,  7,  8,  9, 10, 11, 12, 13, 14, 15, 16,\n",
       "        17]),\n",
       " [Text(0, 0, 'Bajaj'),\n",
       "  Text(1, 0, 'Suzuki'),\n",
       "  Text(2, 0, 'Yamaha'),\n",
       "  Text(3, 0, 'Hero'),\n",
       "  Text(4, 0, 'Honda'),\n",
       "  Text(5, 0, 'Vespa'),\n",
       "  Text(6, 0, 'Royal'),\n",
       "  Text(7, 0, 'TVS'),\n",
       "  Text(8, 0, 'Jawa'),\n",
       "  Text(9, 0, 'KTM'),\n",
       "  Text(10, 0, 'Hyosung'),\n",
       "  Text(11, 0, 'BMW'),\n",
       "  Text(12, 0, 'Aprilia'),\n",
       "  Text(13, 0, 'Benelli'),\n",
       "  Text(14, 0, 'Kawasaki'),\n",
       "  Text(15, 0, 'UM'),\n",
       "  Text(16, 0, 'Husqvarna'),\n",
       "  Text(17, 0, 'Mahindra')])"
      ]
     },
     "execution_count": 69,
     "metadata": {},
     "output_type": "execute_result"
    },
    {
     "data": {
      "text/plain": [
       "<Figure size 1080x504 with 0 Axes>"
      ]
     },
     "metadata": {},
     "output_type": "display_data"
    },
    {
     "data": {
      "image/png": "[encoded data removed]",
      "text/plain": [
       "<Figure size 360x360 with 1 Axes>"
      ]
     },
     "metadata": {
      "needs_background": "light"
     },
     "output_type": "display_data"
    }
   ],
   "source": [
    "plt.figure(figsize=(15,7))\n",
    "sns.catplot(x='company', y='kilometers', data=df, kind='box')  \n",
    "plt.xticks(rotation = 90)\n",
    "plt.show()"
   ]
  },
  {
   "cell_type": "markdown",
   "id": "573a24c4",
   "metadata": {},
   "source": [
    "in the above graph we conclude that kilometers driven of different company bikes is different for other companies,Yamaha has the highest kilometers driven bikes from all the companies"
   ]
  },
  {
   "cell_type": "markdown",
   "id": "f5fbd96c",
   "metadata": {},
   "source": [
    "# univariant 2"
   ]
  },
  {
   "cell_type": "markdown",
   "id": "0707d799",
   "metadata": {},
   "source": [
    "# disturbution plot"
   ]
  },
  {
   "cell_type": "code",
   "execution_count": 6,
   "id": "baafaf9d",
   "metadata": {},
   "outputs": [
    {
     "name": "stderr",
     "output_type": "stream",
     "text": [
      "C:\\Users\\asus\\anaconda3\\lib\\site-packages\\seaborn\\distributions.py:2557: FutureWarning: `distplot` is a deprecated function and will be removed in a future version. Please adapt your code to use either `displot` (a figure-level function with similar flexibility) or `histplot` (an axes-level function for histograms).\n",
      "  warnings.warn(msg, FutureWarning)\n"
     ]
    },
    {
     "data": {
      "image/png": "[encoded data removed]",
      "text/plain": [
       "<Figure size 432x288 with 1 Axes>"
      ]
     },
     "metadata": {
      "needs_background": "light"
     },
     "output_type": "display_data"
    }
   ],
   "source": [
    "#plt.figure(figsize=(15,7))\n",
    "sns.distplot(x = df.price,);"
   ]
  },
  {
   "cell_type": "markdown",
   "id": "da985f62",
   "metadata": {},
   "source": [
    "In the above graph we can conclude that cost of the more bikes are avalable in the range of 30000-35000"
   ]
  },
  {
   "cell_type": "code",
   "execution_count": 18,
   "id": "b717e008",
   "metadata": {},
   "outputs": [
    {
     "data": {
      "text/plain": [
       "<AxesSubplot:xlabel='price', ylabel='kilometers'>"
      ]
     },
     "execution_count": 18,
     "metadata": {},
     "output_type": "execute_result"
    },
    {
     "data": {
      "image/png": "[encoded data removed]",
      "text/plain": [
       "<Figure size 432x288 with 1 Axes>"
      ]
     },
     "metadata": {
      "needs_background": "light"
     },
     "output_type": "display_data"
    }
   ],
   "source": [
    "#plt.figure(figsize=(15,7))\n",
    "sns.lineplot(x = \"price\", y = \"kilometers\",data = df)"
   ]
  },
  {
   "cell_type": "markdown",
   "id": "4ed617a0",
   "metadata": {},
   "source": [
    "# univariant 3"
   ]
  },
  {
   "cell_type": "markdown",
   "id": "6620e85e",
   "metadata": {},
   "source": [
    "# count plot"
   ]
  },
  {
   "cell_type": "code",
   "execution_count": 9,
   "id": "27b17878",
   "metadata": {},
   "outputs": [
    {
     "data": {
      "text/plain": [
       "<AxesSubplot:xlabel='model_year', ylabel='count'>"
      ]
     },
     "execution_count": 9,
     "metadata": {},
     "output_type": "execute_result"
    },
    {
     "data": {
      "text/plain": [
       "(array([ 0,  1,  2,  3,  4,  5,  6,  7,  8,  9, 10, 11, 12, 13, 14, 15, 16,\n",
       "        17, 18, 19, 20, 21, 22]),\n",
       " [Text(0, 0, '1987'),\n",
       "  Text(1, 0, '1988'),\n",
       "  Text(2, 0, '2001'),\n",
       "  Text(3, 0, '2002'),\n",
       "  Text(4, 0, '2003'),\n",
       "  Text(5, 0, '2004'),\n",
       "  Text(6, 0, '2005'),\n",
       "  Text(7, 0, '2006'),\n",
       "  Text(8, 0, '2007'),\n",
       "  Text(9, 0, '2008'),\n",
       "  Text(10, 0, '2009'),\n",
       "  Text(11, 0, '2010'),\n",
       "  Text(12, 0, '2011'),\n",
       "  Text(13, 0, '2012'),\n",
       "  Text(14, 0, '2013'),\n",
       "  Text(15, 0, '2014'),\n",
       "  Text(16, 0, '2015'),\n",
       "  Text(17, 0, '2016'),\n",
       "  Text(18, 0, '2017'),\n",
       "  Text(19, 0, '2018'),\n",
       "  Text(20, 0, '2019'),\n",
       "  Text(21, 0, '2020'),\n",
       "  Text(22, 0, '2021')])"
      ]
     },
     "execution_count": 9,
     "metadata": {},
     "output_type": "execute_result"
    },
    {
     "data": {
      "image/png": "[encoded data removed]",
      "text/plain": [
       "<Figure size 432x288 with 1 Axes>"
      ]
     },
     "metadata": {
      "needs_background": "light"
     },
     "output_type": "display_data"
    }
   ],
   "source": [
    "#plt.figure(figsize=(15,7))\n",
    "sns.countplot(x= \"model_year\",data=df)\n",
    "plt.xticks(rotation = 90)\n",
    "plt.show()"
   ]
  },
  {
   "cell_type": "markdown",
   "id": "576716a9",
   "metadata": {},
   "source": [
    "In the above graph we conclude that honda company has more bikes in sale compared to other companies"
   ]
  },
  {
   "cell_type": "markdown",
   "id": "7611ad96",
   "metadata": {},
   "source": [
    "# univariant 4"
   ]
  },
  {
   "cell_type": "code",
   "execution_count": 29,
   "id": "84aee7d7",
   "metadata": {},
   "outputs": [
    {
     "data": {
      "text/plain": [
       "<seaborn.axisgrid.FacetGrid at 0x22a41f39eb0>"
      ]
     },
     "execution_count": 29,
     "metadata": {},
     "output_type": "execute_result"
    },
    {
     "data": {
      "text/plain": [
       "(array([ 0,  1,  2,  3,  4,  5,  6,  7,  8,  9, 10, 11, 12, 13, 14, 15, 16,\n",
       "        17]),\n",
       " [Text(0, 0, 'Bajaj'),\n",
       "  Text(1, 0, 'Suzuki'),\n",
       "  Text(2, 0, 'Yamaha'),\n",
       "  Text(3, 0, 'Hero'),\n",
       "  Text(4, 0, 'Honda'),\n",
       "  Text(5, 0, 'Vespa'),\n",
       "  Text(6, 0, 'Royal'),\n",
       "  Text(7, 0, 'TVS'),\n",
       "  Text(8, 0, 'Jawa'),\n",
       "  Text(9, 0, 'KTM'),\n",
       "  Text(10, 0, 'Hyosung'),\n",
       "  Text(11, 0, 'BMW'),\n",
       "  Text(12, 0, 'Aprilia'),\n",
       "  Text(13, 0, 'Benelli'),\n",
       "  Text(14, 0, 'Kawasaki'),\n",
       "  Text(15, 0, 'UM'),\n",
       "  Text(16, 0, 'Husqvarna'),\n",
       "  Text(17, 0, 'Mahindra')])"
      ]
     },
     "execution_count": 29,
     "metadata": {},
     "output_type": "execute_result"
    },
    {
     "data": {
      "image/png": "[encoded data removed]",
      "text/plain": [
       "<Figure size 360x360 with 1 Axes>"
      ]
     },
     "metadata": {
      "needs_background": "light"
     },
     "output_type": "display_data"
    }
   ],
   "source": [
    "sns.catplot(x='company',\n",
    "            y='price',\n",
    "            data=df,\n",
    "            kind='bar',\n",
    "            ci=None)\n",
    "\n",
    "plt.xticks(rotation = 90)\n",
    "plt.show()"
   ]
  },
  {
   "cell_type": "code",
   "execution_count": 30,
   "id": "9aa591ae",
   "metadata": {},
   "outputs": [
    {
     "name": "stderr",
     "output_type": "stream",
     "text": [
      "C:\\Users\\asus\\anaconda3\\lib\\site-packages\\seaborn\\_decorators.py:36: FutureWarning: Pass the following variables as keyword args: x, y. From version 0.12, the only valid positional argument will be `data`, and passing other arguments without an explicit keyword will result in an error or misinterpretation.\n",
      "  warnings.warn(\n"
     ]
    },
    {
     "data": {
      "text/plain": [
       "<AxesSubplot:xlabel='price', ylabel='model_year'>"
      ]
     },
     "execution_count": 30,
     "metadata": {},
     "output_type": "execute_result"
    },
    {
     "data": {
      "image/png": "[encoded data removed]",
      "text/plain": [
       "<Figure size 432x288 with 1 Axes>"
      ]
     },
     "metadata": {
      "needs_background": "light"
     },
     "output_type": "display_data"
    }
   ],
   "source": [
    "#plt.figure(figsize=(15,7))\n",
    "sns.scatterplot(df[\"price\"],df[\"model_year\"],hue=df[\"Owner\"])"
   ]
  },
  {
   "cell_type": "markdown",
   "id": "f64e93e4",
   "metadata": {},
   "source": [
    "# bivariant 3"
   ]
  },
  {
   "cell_type": "markdown",
   "id": "1d66bb04",
   "metadata": {},
   "source": [
    "# catplot"
   ]
  },
  {
   "cell_type": "code",
   "execution_count": 33,
   "id": "48b62324",
   "metadata": {},
   "outputs": [
    {
     "data": {
      "text/plain": [
       "<seaborn.axisgrid.FacetGrid at 0x22a42021f40>"
      ]
     },
     "execution_count": 33,
     "metadata": {},
     "output_type": "execute_result"
    },
    {
     "data": {
      "image/png": "[encoded data removed]",
      "text/plain": [
       "<Figure size 360x360 with 1 Axes>"
      ]
     },
     "metadata": {
      "needs_background": "light"
     },
     "output_type": "display_data"
    }
   ],
   "source": [
    "sns.catplot(x=\"Owner\", y=\"company\", data=df)"
   ]
  },
  {
   "cell_type": "code",
   "execution_count": 35,
   "id": "a85318b4",
   "metadata": {},
   "outputs": [
    {
     "data": {
      "text/plain": [
       "<seaborn.axisgrid.FacetGrid at 0x22a4247a130>"
      ]
     },
     "execution_count": 35,
     "metadata": {},
     "output_type": "execute_result"
    },
    {
     "data": {
      "image/png": "[encoded data removed]",
      "text/plain": [
       "<Figure size 360x360 with 1 Axes>"
      ]
     },
     "metadata": {
      "needs_background": "light"
     },
     "output_type": "display_data"
    }
   ],
   "source": [
    "sns.catplot(x='Owner', data=df, kind='count')"
   ]
  },
  {
   "cell_type": "code",
   "execution_count": 28,
   "id": "a6e1d26d",
   "metadata": {},
   "outputs": [
    {
     "data": {
      "text/plain": [
       "<AxesSubplot:xlabel='model_year', ylabel='price'>"
      ]
     },
     "execution_count": 28,
     "metadata": {},
     "output_type": "execute_result"
    },
    {
     "data": {
      "text/plain": [
       "(array([ 0,  1,  2,  3,  4,  5,  6,  7,  8,  9, 10, 11, 12, 13, 14, 15, 16,\n",
       "        17, 18, 19, 20, 21, 22]),\n",
       " [Text(0, 0, '1987'),\n",
       "  Text(1, 0, '1988'),\n",
       "  Text(2, 0, '2001'),\n",
       "  Text(3, 0, '2002'),\n",
       "  Text(4, 0, '2003'),\n",
       "  Text(5, 0, '2004'),\n",
       "  Text(6, 0, '2005'),\n",
       "  Text(7, 0, '2006'),\n",
       "  Text(8, 0, '2007'),\n",
       "  Text(9, 0, '2008'),\n",
       "  Text(10, 0, '2009'),\n",
       "  Text(11, 0, '2010'),\n",
       "  Text(12, 0, '2011'),\n",
       "  Text(13, 0, '2012'),\n",
       "  Text(14, 0, '2013'),\n",
       "  Text(15, 0, '2014'),\n",
       "  Text(16, 0, '2015'),\n",
       "  Text(17, 0, '2016'),\n",
       "  Text(18, 0, '2017'),\n",
       "  Text(19, 0, '2018'),\n",
       "  Text(20, 0, '2019'),\n",
       "  Text(21, 0, '2020'),\n",
       "  Text(22, 0, '2021')])"
      ]
     },
     "execution_count": 28,
     "metadata": {},
     "output_type": "execute_result"
    },
    {
     "data": {
      "image/png": "[encoded data removed]",
      "text/plain": [
       "<Figure size 432x288 with 1 Axes>"
      ]
     },
     "metadata": {
      "needs_background": "light"
     },
     "output_type": "display_data"
    }
   ],
   "source": [
    "sns.barplot(x=\"model_year\", y=\"price\", data=df)\n",
    "plt.xticks(rotation = 90)\n",
    "plt.show()"
   ]
  },
  {
   "cell_type": "code",
   "execution_count": 42,
   "id": "048e174b",
   "metadata": {},
   "outputs": [
    {
     "name": "stdout",
     "output_type": "stream",
     "text": [
      "10000\n",
      "360000\n"
     ]
    }
   ],
   "source": [
    "min_value = df['price'].min()\n",
    "max_value = df['price'].max()\n",
    "print(min_value)\n",
    "print(max_value)"
   ]
  },
  {
   "cell_type": "code",
   "execution_count": 43,
   "id": "e18c69fb",
   "metadata": {},
   "outputs": [
    {
     "data": {
      "text/plain": [
       "array([ 10000.        , 126666.66666667, 243333.33333333, 360000.        ])"
      ]
     },
     "execution_count": 43,
     "metadata": {},
     "output_type": "execute_result"
    }
   ],
   "source": [
    "bins = np.linspace(min_value,max_value,4)\n",
    "bins"
   ]
  },
  {
   "cell_type": "code",
   "execution_count": 48,
   "id": "ae893fc4",
   "metadata": {},
   "outputs": [],
   "source": [
    "labels = ['5000-30000','30000-80000','80000-above']"
   ]
  },
  {
   "cell_type": "code",
   "execution_count": 49,
   "id": "2174cb20",
   "metadata": {},
   "outputs": [],
   "source": [
    "df['bins'] = pd.cut(df['price'],bins=bins,labels=labels,include_lowest=True)"
   ]
  },
  {
   "cell_type": "code",
   "execution_count": 50,
   "id": "40f61bd2",
   "metadata": {},
   "outputs": [
    {
     "data": {
      "text/plain": [
       "0       5000-30000\n",
       "1       5000-30000\n",
       "2       5000-30000\n",
       "3       5000-30000\n",
       "4       5000-30000\n",
       "          ...     \n",
       "575     5000-30000\n",
       "576     5000-30000\n",
       "577     5000-30000\n",
       "578     5000-30000\n",
       "579    30000-80000\n",
       "Name: bins, Length: 580, dtype: category\n",
       "Categories (3, object): ['5000-30000' < '30000-80000' < '80000-above']"
      ]
     },
     "execution_count": 50,
     "metadata": {},
     "output_type": "execute_result"
    }
   ],
   "source": [
    "df['bins']"
   ]
  },
  {
   "cell_type": "code",
   "execution_count": 51,
   "id": "0fd69bd6",
   "metadata": {},
   "outputs": [
    {
     "data": {
      "text/plain": [
       "(array([488.,   0.,   9.,   0.,  83.]),\n",
       " array([0. , 0.4, 0.8, 1.2, 1.6, 2. ]),\n",
       " <BarContainer object of 5 artists>)"
      ]
     },
     "execution_count": 51,
     "metadata": {},
     "output_type": "execute_result"
    },
    {
     "data": {
      "image/png": "[encoded data removed]",
      "text/plain": [
       "<Figure size 432x288 with 1 Axes>"
      ]
     },
     "metadata": {
      "needs_background": "light"
     },
     "output_type": "display_data"
    }
   ],
   "source": [
    "plt.hist(df['bins'],bins=5)\n",
    "plt.show()"
   ]
  },
  {
   "cell_type": "markdown",
   "id": "03d3b58c",
   "metadata": {},
   "source": [
    "In the above histogram we can see that the avalablility of bikes in the price range between 5000-43333 are more"
   ]
  },
  {
   "cell_type": "code",
   "execution_count": 52,
   "id": "26ccb7b5",
   "metadata": {},
   "outputs": [
    {
     "data": {
      "text/plain": [
       "0       5000-30000\n",
       "1       5000-30000\n",
       "2       5000-30000\n",
       "3       5000-30000\n",
       "4       5000-30000\n",
       "          ...     \n",
       "575     5000-30000\n",
       "576     5000-30000\n",
       "577     5000-30000\n",
       "578     5000-30000\n",
       "579    30000-80000\n",
       "Name: bins, Length: 580, dtype: category\n",
       "Categories (3, object): ['5000-30000' < '30000-80000' < '80000-above']"
      ]
     },
     "execution_count": 52,
     "metadata": {},
     "output_type": "execute_result"
    }
   ],
   "source": [
    "df['bins']"
   ]
  },
  {
   "cell_type": "code",
   "execution_count": 53,
   "id": "4c6aa163",
   "metadata": {},
   "outputs": [
    {
     "data": {
      "text/plain": [
       "<seaborn.axisgrid.FacetGrid at 0x22a43609f70>"
      ]
     },
     "execution_count": 53,
     "metadata": {},
     "output_type": "execute_result"
    },
    {
     "data": {
      "image/png": "[encoded data removed]",
      "text/plain": [
       "<Figure size 360x360 with 1 Axes>"
      ]
     },
     "metadata": {
      "needs_background": "light"
     },
     "output_type": "display_data"
    }
   ],
   "source": [
    "sns.catplot(x=\"bins\", y=\"company\", data=df)"
   ]
  },
  {
   "cell_type": "markdown",
   "id": "1cbb0cd0",
   "metadata": {},
   "source": [
    "In the above histogram we can see that the cost of Royal Enfield and bajaj is above 81666"
   ]
  },
  {
   "cell_type": "code",
   "execution_count": 54,
   "id": "256e77b9",
   "metadata": {},
   "outputs": [
    {
     "data": {
      "text/html": [
       "<div>\n",
       "<style scoped>\n",
       "    .dataframe tbody tr th:only-of-type {\n",
       "        vertical-align: middle;\n",
       "    }\n",
       "\n",
       "    .dataframe tbody tr th {\n",
       "        vertical-align: top;\n",
       "    }\n",
       "\n",
       "    .dataframe thead th {\n",
       "        text-align: right;\n",
       "    }\n",
       "</style>\n",
       "<table border=\"1\" class=\"dataframe\">\n",
       "  <thead>\n",
       "    <tr style=\"text-align: right;\">\n",
       "      <th></th>\n",
       "      <th>price</th>\n",
       "      <th>kilometers</th>\n",
       "      <th>model_year</th>\n",
       "    </tr>\n",
       "  </thead>\n",
       "  <tbody>\n",
       "    <tr>\n",
       "      <th>price</th>\n",
       "      <td>1.000000</td>\n",
       "      <td>-0.480773</td>\n",
       "      <td>0.524465</td>\n",
       "    </tr>\n",
       "    <tr>\n",
       "      <th>kilometers</th>\n",
       "      <td>-0.480773</td>\n",
       "      <td>1.000000</td>\n",
       "      <td>-0.539444</td>\n",
       "    </tr>\n",
       "    <tr>\n",
       "      <th>model_year</th>\n",
       "      <td>0.524465</td>\n",
       "      <td>-0.539444</td>\n",
       "      <td>1.000000</td>\n",
       "    </tr>\n",
       "  </tbody>\n",
       "</table>\n",
       "</div>"
      ],
      "text/plain": [
       "               price  kilometers  model_year\n",
       "price       1.000000   -0.480773    0.524465\n",
       "kilometers -0.480773    1.000000   -0.539444\n",
       "model_year  0.524465   -0.539444    1.000000"
      ]
     },
     "execution_count": 54,
     "metadata": {},
     "output_type": "execute_result"
    }
   ],
   "source": [
    "df[['price','kilometers','model_year']].corr()"
   ]
  },
  {
   "cell_type": "markdown",
   "id": "892c7176",
   "metadata": {},
   "source": [
    "# multivariant 1"
   ]
  },
  {
   "cell_type": "code",
   "execution_count": 32,
   "id": "476a23bc",
   "metadata": {},
   "outputs": [
    {
     "data": {
      "text/plain": [
       "<AxesSubplot:>"
      ]
     },
     "execution_count": 32,
     "metadata": {},
     "output_type": "execute_result"
    },
    {
     "data": {
      "image/png": "[encoded data removed]",
      "text/plain": [
       "<Figure size 432x288 with 2 Axes>"
      ]
     },
     "metadata": {
      "needs_background": "light"
     },
     "output_type": "display_data"
    }
   ],
   "source": [
    "#plt.figure(figsize=(15,7))\n",
    "sns.heatmap(df[['price','kilometers','model_year']].corr(), annot=True)\n",
    "plt.show()"
   ]
  },
  {
   "cell_type": "code",
   "execution_count": 38,
   "id": "7ebe429f",
   "metadata": {},
   "outputs": [
    {
     "name": "stderr",
     "output_type": "stream",
     "text": [
      "C:\\Users\\asus\\anaconda3\\lib\\site-packages\\seaborn\\_decorators.py:36: FutureWarning: Pass the following variables as keyword args: x, y. From version 0.12, the only valid positional argument will be `data`, and passing other arguments without an explicit keyword will result in an error or misinterpretation.\n",
      "  warnings.warn(\n"
     ]
    },
    {
     "data": {
      "text/plain": [
       "<AxesSubplot:xlabel='company', ylabel='kilometers'>"
      ]
     },
     "execution_count": 38,
     "metadata": {},
     "output_type": "execute_result"
    },
    {
     "data": {
      "text/plain": [
       "([0, 1, 2, 3, 4, 5, 6, 7, 8, 9, 10, 11, 12, 13, 14, 15, 16, 17],\n",
       " [Text(0, 0, ''),\n",
       "  Text(0, 0, ''),\n",
       "  Text(0, 0, ''),\n",
       "  Text(0, 0, ''),\n",
       "  Text(0, 0, ''),\n",
       "  Text(0, 0, ''),\n",
       "  Text(0, 0, ''),\n",
       "  Text(0, 0, ''),\n",
       "  Text(0, 0, ''),\n",
       "  Text(0, 0, ''),\n",
       "  Text(0, 0, ''),\n",
       "  Text(0, 0, ''),\n",
       "  Text(0, 0, ''),\n",
       "  Text(0, 0, ''),\n",
       "  Text(0, 0, ''),\n",
       "  Text(0, 0, ''),\n",
       "  Text(0, 0, ''),\n",
       "  Text(0, 0, '')])"
      ]
     },
     "execution_count": 38,
     "metadata": {},
     "output_type": "execute_result"
    },
    {
     "data": {
      "image/png": "[encoded data removed]",
      "text/plain": [
       "<Figure size 432x288 with 1 Axes>"
      ]
     },
     "metadata": {
      "needs_background": "light"
     },
     "output_type": "display_data"
    }
   ],
   "source": [
    "sns.scatterplot(df[\"company\"],df[\"kilometers\"],hue=df[\"Owner\"])\n",
    "plt.xticks(rotation = 90)\n",
    "plt.show()"
   ]
  },
  {
   "cell_type": "markdown",
   "id": "3669503e",
   "metadata": {},
   "source": [
    "# problem statement graphs"
   ]
  },
  {
   "cell_type": "code",
   "execution_count": 20,
   "id": "0ee50255",
   "metadata": {},
   "outputs": [
    {
     "data": {
      "text/html": [
       "<div>\n",
       "<style scoped>\n",
       "    .dataframe tbody tr th:only-of-type {\n",
       "        vertical-align: middle;\n",
       "    }\n",
       "\n",
       "    .dataframe tbody tr th {\n",
       "        vertical-align: top;\n",
       "    }\n",
       "\n",
       "    .dataframe thead th {\n",
       "        text-align: right;\n",
       "    }\n",
       "</style>\n",
       "<table border=\"1\" class=\"dataframe\">\n",
       "  <thead>\n",
       "    <tr style=\"text-align: right;\">\n",
       "      <th>price</th>\n",
       "      <th>False</th>\n",
       "      <th>True</th>\n",
       "    </tr>\n",
       "    <tr>\n",
       "      <th>company</th>\n",
       "      <th></th>\n",
       "      <th></th>\n",
       "    </tr>\n",
       "  </thead>\n",
       "  <tbody>\n",
       "    <tr>\n",
       "      <th>Aprilia</th>\n",
       "      <td>2</td>\n",
       "      <td>0</td>\n",
       "    </tr>\n",
       "    <tr>\n",
       "      <th>BMW</th>\n",
       "      <td>1</td>\n",
       "      <td>0</td>\n",
       "    </tr>\n",
       "    <tr>\n",
       "      <th>Bajaj</th>\n",
       "      <td>84</td>\n",
       "      <td>22</td>\n",
       "    </tr>\n",
       "    <tr>\n",
       "      <th>Benelli</th>\n",
       "      <td>3</td>\n",
       "      <td>0</td>\n",
       "    </tr>\n",
       "    <tr>\n",
       "      <th>Hero</th>\n",
       "      <td>54</td>\n",
       "      <td>29</td>\n",
       "    </tr>\n",
       "    <tr>\n",
       "      <th>Honda</th>\n",
       "      <td>105</td>\n",
       "      <td>23</td>\n",
       "    </tr>\n",
       "    <tr>\n",
       "      <th>Husqvarna</th>\n",
       "      <td>2</td>\n",
       "      <td>0</td>\n",
       "    </tr>\n",
       "    <tr>\n",
       "      <th>Hyosung</th>\n",
       "      <td>2</td>\n",
       "      <td>0</td>\n",
       "    </tr>\n",
       "    <tr>\n",
       "      <th>Jawa</th>\n",
       "      <td>9</td>\n",
       "      <td>0</td>\n",
       "    </tr>\n",
       "    <tr>\n",
       "      <th>KTM</th>\n",
       "      <td>14</td>\n",
       "      <td>0</td>\n",
       "    </tr>\n",
       "    <tr>\n",
       "      <th>Kawasaki</th>\n",
       "      <td>2</td>\n",
       "      <td>0</td>\n",
       "    </tr>\n",
       "    <tr>\n",
       "      <th>Mahindra</th>\n",
       "      <td>1</td>\n",
       "      <td>2</td>\n",
       "    </tr>\n",
       "    <tr>\n",
       "      <th>Royal</th>\n",
       "      <td>76</td>\n",
       "      <td>0</td>\n",
       "    </tr>\n",
       "    <tr>\n",
       "      <th>Suzuki</th>\n",
       "      <td>20</td>\n",
       "      <td>1</td>\n",
       "    </tr>\n",
       "    <tr>\n",
       "      <th>TVS</th>\n",
       "      <td>49</td>\n",
       "      <td>13</td>\n",
       "    </tr>\n",
       "    <tr>\n",
       "      <th>UM</th>\n",
       "      <td>2</td>\n",
       "      <td>0</td>\n",
       "    </tr>\n",
       "    <tr>\n",
       "      <th>Vespa</th>\n",
       "      <td>2</td>\n",
       "      <td>0</td>\n",
       "    </tr>\n",
       "    <tr>\n",
       "      <th>Yamaha</th>\n",
       "      <td>54</td>\n",
       "      <td>8</td>\n",
       "    </tr>\n",
       "  </tbody>\n",
       "</table>\n",
       "</div>"
      ],
      "text/plain": [
       "price      False  True \n",
       "company                \n",
       "Aprilia        2      0\n",
       "BMW            1      0\n",
       "Bajaj         84     22\n",
       "Benelli        3      0\n",
       "Hero          54     29\n",
       "Honda        105     23\n",
       "Husqvarna      2      0\n",
       "Hyosung        2      0\n",
       "Jawa           9      0\n",
       "KTM           14      0\n",
       "Kawasaki       2      0\n",
       "Mahindra       1      2\n",
       "Royal         76      0\n",
       "Suzuki        20      1\n",
       "TVS           49     13\n",
       "UM             2      0\n",
       "Vespa          2      0\n",
       "Yamaha        54      8"
      ]
     },
     "execution_count": 20,
     "metadata": {},
     "output_type": "execute_result"
    }
   ],
   "source": [
    "crosstab=pd.crosstab(df['company'],df['price']<30000)\n",
    "crosstab"
   ]
  },
  {
   "cell_type": "code",
   "execution_count": 21,
   "id": "6e2567b7",
   "metadata": {},
   "outputs": [
    {
     "data": {
      "text/plain": [
       "<Figure size 1080x504 with 0 Axes>"
      ]
     },
     "execution_count": 21,
     "metadata": {},
     "output_type": "execute_result"
    },
    {
     "data": {
      "text/plain": [
       "<AxesSubplot:xlabel='company'>"
      ]
     },
     "execution_count": 21,
     "metadata": {},
     "output_type": "execute_result"
    },
    {
     "data": {
      "text/plain": [
       "<Figure size 1080x504 with 0 Axes>"
      ]
     },
     "metadata": {},
     "output_type": "display_data"
    },
    {
     "data": {
      "image/png": "[encoded data removed]",
      "text/plain": [
       "<Figure size 432x288 with 1 Axes>"
      ]
     },
     "metadata": {
      "needs_background": "light"
     },
     "output_type": "display_data"
    }
   ],
   "source": [
    "plt.figure(figsize=(15,7))\n",
    "crosstab.plot(kind='bar',stacked=True)"
   ]
  },
  {
   "cell_type": "code",
   "execution_count": 22,
   "id": "166ca864",
   "metadata": {},
   "outputs": [
    {
     "data": {
      "text/html": [
       "<div>\n",
       "<style scoped>\n",
       "    .dataframe tbody tr th:only-of-type {\n",
       "        vertical-align: middle;\n",
       "    }\n",
       "\n",
       "    .dataframe tbody tr th {\n",
       "        vertical-align: top;\n",
       "    }\n",
       "\n",
       "    .dataframe thead th {\n",
       "        text-align: right;\n",
       "    }\n",
       "</style>\n",
       "<table border=\"1\" class=\"dataframe\">\n",
       "  <thead>\n",
       "    <tr style=\"text-align: right;\">\n",
       "      <th>price</th>\n",
       "      <th>False</th>\n",
       "      <th>True</th>\n",
       "    </tr>\n",
       "    <tr>\n",
       "      <th>Bikenames</th>\n",
       "      <th></th>\n",
       "      <th></th>\n",
       "    </tr>\n",
       "  </thead>\n",
       "  <tbody>\n",
       "    <tr>\n",
       "      <th>200 Duke BS</th>\n",
       "      <td>1</td>\n",
       "      <td>0</td>\n",
       "    </tr>\n",
       "    <tr>\n",
       "      <th>200 Duke Standard</th>\n",
       "      <td>1</td>\n",
       "      <td>0</td>\n",
       "    </tr>\n",
       "    <tr>\n",
       "      <th>250 Duke ABS</th>\n",
       "      <td>2</td>\n",
       "      <td>0</td>\n",
       "    </tr>\n",
       "    <tr>\n",
       "      <th>250 Duke BS</th>\n",
       "      <td>1</td>\n",
       "      <td>0</td>\n",
       "    </tr>\n",
       "    <tr>\n",
       "      <th>390 Duke ABS</th>\n",
       "      <td>1</td>\n",
       "      <td>0</td>\n",
       "    </tr>\n",
       "    <tr>\n",
       "      <th>...</th>\n",
       "      <td>...</td>\n",
       "      <td>...</td>\n",
       "    </tr>\n",
       "    <tr>\n",
       "      <th>Xtreme Sports Front</th>\n",
       "      <td>0</td>\n",
       "      <td>1</td>\n",
       "    </tr>\n",
       "    <tr>\n",
       "      <th>Xtreme Sports Rear</th>\n",
       "      <td>1</td>\n",
       "      <td>0</td>\n",
       "    </tr>\n",
       "    <tr>\n",
       "      <th>YZF R15 2011-2018</th>\n",
       "      <td>7</td>\n",
       "      <td>0</td>\n",
       "    </tr>\n",
       "    <tr>\n",
       "      <th>YZF R15 S</th>\n",
       "      <td>3</td>\n",
       "      <td>0</td>\n",
       "    </tr>\n",
       "    <tr>\n",
       "      <th>YZF R15 V3</th>\n",
       "      <td>1</td>\n",
       "      <td>0</td>\n",
       "    </tr>\n",
       "  </tbody>\n",
       "</table>\n",
       "<p>261 rows × 2 columns</p>\n",
       "</div>"
      ],
      "text/plain": [
       "price                False  True \n",
       "Bikenames                        \n",
       "200 Duke BS              1      0\n",
       "200 Duke Standard        1      0\n",
       "250 Duke ABS             2      0\n",
       "250 Duke BS              1      0\n",
       "390 Duke ABS             1      0\n",
       "...                    ...    ...\n",
       "Xtreme Sports Front      0      1\n",
       "Xtreme Sports Rear       1      0\n",
       "YZF R15 2011-2018        7      0\n",
       "YZF R15 S                3      0\n",
       "YZF R15 V3               1      0\n",
       "\n",
       "[261 rows x 2 columns]"
      ]
     },
     "execution_count": 22,
     "metadata": {},
     "output_type": "execute_result"
    }
   ],
   "source": [
    "crosstab1=pd.crosstab(df['Bikenames'],df['price']<45000)\n",
    "crosstab1"
   ]
  },
  {
   "cell_type": "code",
   "execution_count": 71,
   "id": "42323874",
   "metadata": {},
   "outputs": [],
   "source": [
    "df_1 = df[df['price']<45000]"
   ]
  },
  {
   "cell_type": "code",
   "execution_count": 76,
   "id": "f883aa34",
   "metadata": {},
   "outputs": [
    {
     "name": "stderr",
     "output_type": "stream",
     "text": [
      "C:\\Users\\asus\\anaconda3\\lib\\site-packages\\seaborn\\_decorators.py:36: FutureWarning: Pass the following variable as a keyword arg: x. From version 0.12, the only valid positional argument will be `data`, and passing other arguments without an explicit keyword will result in an error or misinterpretation.\n",
      "  warnings.warn(\n"
     ]
    },
    {
     "data": {
      "text/plain": [
       "<AxesSubplot:xlabel='Bikenames', ylabel='count'>"
      ]
     },
     "execution_count": 76,
     "metadata": {},
     "output_type": "execute_result"
    },
    {
     "data": {
      "text/plain": [
       "(array([0, 1, 2, 3, 4, 5, 6, 7, 8, 9]),\n",
       " [Text(0, 0, 'Activa 2000-2015 Standard'),\n",
       "  Text(1, 0, 'Pulsar 150 Standard'),\n",
       "  Text(2, 0, 'Apache RTR 160'),\n",
       "  Text(3, 0, 'FZ16 Standard'),\n",
       "  Text(4, 0, 'Pulsar 135 LS'),\n",
       "  Text(5, 0, 'Activa 2000-2015 Deluxe'),\n",
       "  Text(6, 0, 'Pulsar 180 2001-2019'),\n",
       "  Text(7, 0, 'Honda CD Deluxe'),\n",
       "  Text(8, 0, 'Honda Hunk Standard'),\n",
       "  Text(9, 0, 'FZ S 2012-2016')])"
      ]
     },
     "execution_count": 76,
     "metadata": {},
     "output_type": "execute_result"
    },
    {
     "data": {
      "image/png": "[encoded data removed]",
      "text/plain": [
       "<Figure size 432x288 with 1 Axes>"
      ]
     },
     "metadata": {
      "needs_background": "light"
     },
     "output_type": "display_data"
    }
   ],
   "source": [
    "#plt.figure(figsize=(15,7))\n",
    "sns.countplot(df_1[\"Bikenames\"], order=df_1[\"Bikenames\"].value_counts().iloc[:10].index)\n",
    "plt.xticks(rotation = 90)\n",
    "plt.show()"
   ]
  },
  {
   "cell_type": "code",
   "execution_count": null,
   "id": "b50d149e",
   "metadata": {},
   "outputs": [],
   "source": []
  }
 ],
 "metadata": {
  "kernelspec": {
   "display_name": "Python 3 (ipykernel)",
   "language": "python",
   "name": "python3"
  },
  "language_info": {
   "codemirror_mode": {
    "name": "ipython",
    "version": 3
   },
   "file_extension": ".py",
   "mimetype": "text/x-python",
   "name": "python",
   "nbconvert_exporter": "python",
   "pygments_lexer": "ipython3",
   "version": "3.9.7"
  }
 },
 "nbformat": 4,
 "nbformat_minor": 5
}
